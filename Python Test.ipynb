{
 "cells": [
  {
   "cell_type": "code",
   "execution_count": 1,
   "id": "ab98649c-5ac2-48ed-977b-d364dcc61b21",
   "metadata": {},
   "outputs": [
    {
     "name": "stdin",
     "output_type": "stream",
     "text": [
      "Enter a number: 5\n"
     ]
    },
    {
     "name": "stdout",
     "output_type": "stream",
     "text": [
      "Odd Number\n"
     ]
    }
   ],
   "source": [
    "num=int(input(\"Enter a number:\"))\n",
    "if num%2==0:\n",
    "    print(\"Even Number\")\n",
    "else:\n",
    "    print(\"Odd Number\")"
   ]
  },
  {
   "cell_type": "code",
   "execution_count": 3,
   "id": "41fb6149-6396-4618-990c-4ec91b641a91",
   "metadata": {},
   "outputs": [
    {
     "name": "stdin",
     "output_type": "stream",
     "text": [
      "Enter a string: anuska\n"
     ]
    },
    {
     "name": "stdout",
     "output_type": "stream",
     "text": [
      "The length of the string is: 6\n"
     ]
    }
   ],
   "source": [
    "str=input(\"Enter a string:\")\n",
    "print(\"The length of the string is:\",len(str))"
   ]
  },
  {
   "cell_type": "code",
   "execution_count": 9,
   "id": "8a51bc82-7fe8-4094-870d-8e4bec692797",
   "metadata": {},
   "outputs": [
    {
     "name": "stdin",
     "output_type": "stream",
     "text": [
      "Enter first number: 4\n",
      "Enter second number: 2\n"
     ]
    },
    {
     "name": "stdout",
     "output_type": "stream",
     "text": [
      "The sum of two numbers is: 6\n",
      "The difference between two numbers is: 2\n",
      "The product of two numbers is: 8\n",
      "The quotient of two numbers is: 2\n"
     ]
    }
   ],
   "source": [
    "num1=int(input(\"Enter first number:\"))\n",
    "num2=int(input(\"Enter second number:\"))\n",
    "print(\"The sum of two numbers is:\",num1+num2)\n",
    "print(\"The difference between two numbers is:\",num1-num2)\n",
    "print(\"The product of two numbers is:\",num1*num2)\n",
    "print(\"The quotient of two numbers is:\",num1//num2)"
   ]
  },
  {
   "cell_type": "code",
   "execution_count": 15,
   "id": "8470b7e3-9d37-4cd3-a3cb-e29646302fa6",
   "metadata": {},
   "outputs": [
    {
     "name": "stdin",
     "output_type": "stream",
     "text": [
      "Enter a word: naman\n"
     ]
    },
    {
     "name": "stdout",
     "output_type": "stream",
     "text": [
      "Palindrome\n"
     ]
    }
   ],
   "source": [
    "str=input(\"Enter a word:\").strip().lower()\n",
    "if (str[::-1]==str):\n",
    "    print(\"Palindrome\")\n",
    "else:\n",
    "    print(\"Not a Palindrome\")"
   ]
  },
  {
   "cell_type": "code",
   "execution_count": null,
   "id": "00843a1e-2597-4554-9f0a-f8777d90eb7a",
   "metadata": {},
   "outputs": [],
   "source": [
    "n=int(input(\"Enter a number:\"))\n",
    "for i in range(n,0,-1):\n",
    "    for j in range(i):\n",
    "        print(\"*\",end"
   ]
  },
  {
   "cell_type": "code",
   "execution_count": null,
   "id": "0c2252e7-fcf9-4217-993a-e0c234bbbc9d",
   "metadata": {},
   "outputs": [],
   "source": []
  }
 ],
 "metadata": {
  "kernelspec": {
   "display_name": "Python 3 (ipykernel)",
   "language": "python",
   "name": "python3"
  },
  "language_info": {
   "codemirror_mode": {
    "name": "ipython",
    "version": 3
   },
   "file_extension": ".py",
   "mimetype": "text/x-python",
   "name": "python",
   "nbconvert_exporter": "python",
   "pygments_lexer": "ipython3",
   "version": "3.12.4"
  }
 },
 "nbformat": 4,
 "nbformat_minor": 5
}
