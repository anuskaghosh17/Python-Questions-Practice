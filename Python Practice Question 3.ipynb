{
 "cells": [
  {
   "cell_type": "code",
   "execution_count": 1,
   "id": "905a7efe-9520-4592-ab52-2b22f861d6b5",
   "metadata": {},
   "outputs": [
    {
     "name": "stdout",
     "output_type": "stream",
     "text": [
      "1\n",
      "2\n",
      "3\n",
      "4\n"
     ]
    }
   ],
   "source": [
    "for i in range(1,11):\n",
    "    if i==5:\n",
    "        break\n",
    "    print(i)"
   ]
  },
  {
   "cell_type": "code",
   "execution_count": 5,
   "id": "6905c616-e3f3-4000-8368-00a1f449aebd",
   "metadata": {},
   "outputs": [
    {
     "name": "stdin",
     "output_type": "stream",
     "text": [
      "enter a number 4\n"
     ]
    },
    {
     "name": "stdout",
     "output_type": "stream",
     "text": [
      "4 x 1 = 4\n",
      "4 x 2 = 8\n",
      "4 x 3 = 12\n",
      "4 x 4 = 16\n",
      "4 x 5 = 20\n",
      "4 x 6 = 24\n",
      "4 x 7 = 28\n",
      "4 x 8 = 32\n",
      "4 x 9 = 36\n",
      "4 x 10 = 40\n"
     ]
    }
   ],
   "source": [
    "num=int(input(\"enter a number\"))\n",
    "for i in range (1,11):\n",
    "    result=num*i\n",
    "    print(num,\"x\",i,\"=\",result)"
   ]
  },
  {
   "cell_type": "code",
   "execution_count": 7,
   "id": "990aab0f-e988-4131-b793-f3b0f812d091",
   "metadata": {},
   "outputs": [
    {
     "name": "stdout",
     "output_type": "stream",
     "text": [
      "5\n",
      "4\n",
      "3\n",
      "2\n",
      "1\n",
      "Lift off\n"
     ]
    }
   ],
   "source": [
    "count=5\n",
    "while count>0:\n",
    "    print(count)\n",
    "    count=count-1\n",
    "print(\"Lift off\")"
   ]
  },
  {
   "cell_type": "code",
   "execution_count": 13,
   "id": "a0309164-517b-4e11-aba2-b2319f4ed9e2",
   "metadata": {},
   "outputs": [
    {
     "name": "stdin",
     "output_type": "stream",
     "text": [
      "Enter a number:  -1\n"
     ]
    },
    {
     "name": "stdout",
     "output_type": "stream",
     "text": [
      "negative number\n"
     ]
    }
   ],
   "source": [
    "num = int(input(\"Enter a number: \"))\n",
    "if num < 0:\n",
    "    print(\"negative number\")\n",
    "elif num == 0 or num == 1:\n",
    "    print(\"Factorial is 1\")\n",
    "else:\n",
    "    fact = 1\n",
    "    for i in range(2, num + 1):\n",
    "        fact= fact*i\n",
    "    print(f\"Factorial of {num} is: {fact}\")"
   ]
  },
  {
   "cell_type": "code",
   "execution_count": 24,
   "id": "473627ce-3db2-4a6e-87d6-8ee1b914a7a1",
   "metadata": {},
   "outputs": [
    {
     "name": "stdin",
     "output_type": "stream",
     "text": [
      "Enter a number: 9\n"
     ]
    },
    {
     "name": "stdout",
     "output_type": "stream",
     "text": [
      "Not Prime Number\n"
     ]
    }
   ],
   "source": [
    "n = int(input(\"Enter a number:\"))\n",
    "if n > 1:\n",
    "    for i in range(2, n):\n",
    "        if n % i == 0:\n",
    "            print(\"Not Prime Number\")\n",
    "            break\n",
    "    else:\n",
    "        print(\"Prime Number\")\n",
    "else:\n",
    "    print(\"Not Prime Number\")"
   ]
  },
  {
   "cell_type": "code",
   "execution_count": null,
   "id": "2e494ddc-8bcd-49b9-8126-d8ccffe0297c",
   "metadata": {},
   "outputs": [],
   "source": []
  },
  {
   "cell_type": "code",
   "execution_count": null,
   "id": "b8534df7-8dfb-4473-aa17-034681153049",
   "metadata": {},
   "outputs": [],
   "source": []
  }
 ],
 "metadata": {
  "kernelspec": {
   "display_name": "Python 3 (ipykernel)",
   "language": "python",
   "name": "python3"
  },
  "language_info": {
   "codemirror_mode": {
    "name": "ipython",
    "version": 3
   },
   "file_extension": ".py",
   "mimetype": "text/x-python",
   "name": "python",
   "nbconvert_exporter": "python",
   "pygments_lexer": "ipython3",
   "version": "3.12.4"
  }
 },
 "nbformat": 4,
 "nbformat_minor": 5
}
