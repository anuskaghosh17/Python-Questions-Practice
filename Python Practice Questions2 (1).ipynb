{
 "cells": [
  {
   "cell_type": "code",
   "execution_count": 1,
   "id": "02ee806a-f1c0-4cf8-b61c-dc34d44436a6",
   "metadata": {},
   "outputs": [
    {
     "name": "stdin",
     "output_type": "stream",
     "text": [
      "Enter first number: 45\n",
      "Enter second number: 23\n",
      "Enter third number: 68\n"
     ]
    },
    {
     "name": "stdout",
     "output_type": "stream",
     "text": [
      "The largest number is: 68\n"
     ]
    }
   ],
   "source": [
    "a=int(input(\"Enter first number:\"))\n",
    "b=int(input(\"Enter second number:\"))\n",
    "c=int(input(\"Enter third number:\"))\n",
    "if (a>b) and (a>c):\n",
    "    largest=a\n",
    "elif (b>a) and (b>c):\n",
    "    largest=b\n",
    "else:\n",
    "    largest=c\n",
    "\n",
    "print(\"The largest number is:\",largest)"
   ]
  },
  {
   "cell_type": "code",
   "execution_count": 15,
   "id": "093cb8ee-43df-48c4-8625-c7a5e22e6a86",
   "metadata": {},
   "outputs": [
    {
     "name": "stdin",
     "output_type": "stream",
     "text": [
      "Enter first number: 2\n",
      "Enter second number: 1\n",
      "Enter third number: 3\n"
     ]
    },
    {
     "name": "stdout",
     "output_type": "stream",
     "text": [
      "The second greatest number is: 2\n"
     ]
    }
   ],
   "source": [
    "a=int(input(\"Enter first number:\"))\n",
    "b=int(input(\"Enter second number:\"))\n",
    "c=int(input(\"Enter third number:\"))\n",
    "if (a>c and c>b) or (b>c and c>a):\n",
    "    second_greatest=c\n",
    "elif (b>a and a>c) or (c>a and a>b):\n",
    "    second_greatest=a\n",
    "else:\n",
    "    second_greatest=b\n",
    "\n",
    "print(\"The second greatest number is:\",second_greatest)"
   ]
  },
  {
   "cell_type": "code",
   "execution_count": 5,
   "id": "97fc47de-6e57-4208-b121-4fd4665833c4",
   "metadata": {},
   "outputs": [
    {
     "name": "stdin",
     "output_type": "stream",
     "text": [
      "Enter first number: 45\n",
      "Enter second number: 56\n",
      "Enter third number: 23\n",
      "Enter fourth number: 78\n"
     ]
    },
    {
     "name": "stdout",
     "output_type": "stream",
     "text": [
      "The smallest number is: 23\n"
     ]
    }
   ],
   "source": [
    "a=int(input(\"Enter first number:\"))\n",
    "b=int(input(\"Enter second number:\"))\n",
    "c=int(input(\"Enter third number:\"))\n",
    "d=int(input(\"Enter fourth number:\"))\n",
    "if (a<b) and (a<c) and (a<d):\n",
    "    smallest=a\n",
    "elif(b<a) and (b<c) and (b<d):\n",
    "    smallest=b\n",
    "elif(c<a) and (c<b) and (c<d):\n",
    "    smallest=c\n",
    "else:\n",
    "    smallest=d\n",
    "\n",
    "print(\"The smallest number is:\",smallest)"
   ]
  },
  {
   "cell_type": "code",
   "execution_count": 1,
   "id": "3b96424b-2e00-4e80-a369-28fc20149fac",
   "metadata": {},
   "outputs": [
    {
     "name": "stdin",
     "output_type": "stream",
     "text": [
      "Enter a number: 45\n"
     ]
    },
    {
     "name": "stdout",
     "output_type": "stream",
     "text": [
      "Positive\n"
     ]
    }
   ],
   "source": [
    "a=int(input(\"Enter a number:\"))\n",
    "if(a>0):\n",
    "    print(\"Positive\")\n",
    "else:\n",
    "    print(\"Negative\")"
   ]
  },
  {
   "cell_type": "code",
   "execution_count": 3,
   "id": "363802dd-0c48-4d00-896d-1519abb66d85",
   "metadata": {},
   "outputs": [
    {
     "name": "stdin",
     "output_type": "stream",
     "text": [
      "Enter year: 2100\n"
     ]
    },
    {
     "name": "stdout",
     "output_type": "stream",
     "text": [
      "NOT LEAP YEAR\n"
     ]
    }
   ],
   "source": [
    "a=int(input(\"Enter year:\"))\n",
    "if a%4==0:\n",
    "    if a%100==0:\n",
    "        if a%400==0:\n",
    "            print(\"LEAP YEAR\")\n",
    "        else:\n",
    "            print(\"NOT LEAP YEAR\")\n",
    "    else:\n",
    "        print(\"NOT LEAP YEAR\")\n",
    "else:\n",
    "    print(\"NOT LEAP YEAR\")\n"
   ]
  },
  {
   "cell_type": "code",
   "execution_count": 5,
   "id": "d7c3c98c-3852-49bc-bf24-853dcb1acd27",
   "metadata": {},
   "outputs": [
    {
     "name": "stdin",
     "output_type": "stream",
     "text": [
      "Enter a number: 68\n"
     ]
    },
    {
     "name": "stdout",
     "output_type": "stream",
     "text": [
      "NO\n"
     ]
    }
   ],
   "source": [
    "import math\n",
    "a=int(input(\"Enter a number:\"))\n",
    "m=math.sqrt(a)\n",
    "if m.is_integer():\n",
    "    print(\"YES\")\n",
    "else:\n",
    "    print(\"NO\")"
   ]
  },
  {
   "cell_type": "code",
   "execution_count": 3,
   "id": "ed146d38-f07c-459f-85e7-70afcf8d1014",
   "metadata": {},
   "outputs": [
    {
     "name": "stdin",
     "output_type": "stream",
     "text": [
      "Enter a character: B\n"
     ]
    },
    {
     "name": "stdout",
     "output_type": "stream",
     "text": [
      "CONSONANT\n"
     ]
    }
   ],
   "source": [
    "a=input(\"Enter a character:\")\n",
    "string=\"aeiouAEIOU\"\n",
    "if string in a:\n",
    "    print(\"VOWEL\")\n",
    "elif a.isalpha():\n",
    "    print(\"CONSONANT\")\n",
    "else:\n",
    "    print(\"NOT AN ALPHABET\")"
   ]
  },
  {
   "cell_type": "code",
   "execution_count": 9,
   "id": "85d42dc5-a665-47b1-862e-3e810e5b7328",
   "metadata": {},
   "outputs": [
    {
     "name": "stdin",
     "output_type": "stream",
     "text": [
      "Enter a number: -3\n",
      "Enter a number: 0\n"
     ]
    },
    {
     "name": "stdout",
     "output_type": "stream",
     "text": [
      "Negative x-axis\n"
     ]
    }
   ],
   "source": [
    "x=int(input(\"Enter a number:\"))\n",
    "y=int(input(\"Enter a number:\"))\n",
    "if(x>0) and (y>0):\n",
    "    print(\"Ist Quadrant\")\n",
    "elif(x<0) and (y>0):\n",
    "    print(\"IInd Quadrant\")\n",
    "elif(x<0) and (y<0):\n",
    "    print(\"IIIrd Quadrant\")\n",
    "elif(x>0) and (y<0):\n",
    "    print(\"IVth Quadrant\")\n",
    "elif(x==0) and (y==0):\n",
    "    print(\"Origin\")\n",
    "elif(x==0) and (y>0):\n",
    "    print(\"Positive y-axis\")\n",
    "elif(x==0) and (y<0):\n",
    "    print(\"Negative y-axis\")\n",
    "elif(x>0) and (y==0):\n",
    "    print(\"Positive x-axis\")\n",
    "else:\n",
    "    print(\"Negative x-axis\")\n",
    "    \n",
    "    "
   ]
  },
  {
   "cell_type": "code",
   "execution_count": null,
   "id": "08b447de-3314-492f-b1a0-a0b57fcd4ba0",
   "metadata": {},
   "outputs": [],
   "source": []
  }
 ],
 "metadata": {
  "kernelspec": {
   "display_name": "Python 3 (ipykernel)",
   "language": "python",
   "name": "python3"
  },
  "language_info": {
   "codemirror_mode": {
    "name": "ipython",
    "version": 3
   },
   "file_extension": ".py",
   "mimetype": "text/x-python",
   "name": "python",
   "nbconvert_exporter": "python",
   "pygments_lexer": "ipython3",
   "version": "3.12.4"
  }
 },
 "nbformat": 4,
 "nbformat_minor": 5
}
