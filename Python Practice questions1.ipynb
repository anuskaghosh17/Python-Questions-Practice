{
 "cells": [
  {
   "cell_type": "code",
   "execution_count": 5,
   "id": "caad6b0c-bb12-46a1-8ad0-ba54e2d1c5f6",
   "metadata": {},
   "outputs": [],
   "source": [
    "A=2"
   ]
  },
  {
   "cell_type": "code",
   "execution_count": 7,
   "id": "98d0720d-2836-4a1f-a94a-fed66879c708",
   "metadata": {},
   "outputs": [
    {
     "data": {
      "text/plain": [
       "2"
      ]
     },
     "execution_count": 7,
     "metadata": {},
     "output_type": "execute_result"
    }
   ],
   "source": [
    "A"
   ]
  },
  {
   "cell_type": "code",
   "execution_count": 7,
   "id": "c38216c7-ac00-47ef-9020-b25656bee19c",
   "metadata": {},
   "outputs": [
    {
     "name": "stdout",
     "output_type": "stream",
     "text": [
      "10 9 8 7 \n",
      "6 5 4 \n",
      "3 2 \n",
      "1 \n"
     ]
    }
   ],
   "source": [
    "num = 10 # starting number\n",
    "\n",
    "for i in range(4,0,-1):\n",
    "    for j in range(0,i):\n",
    "        print(num, end=' ')\n",
    "        num-=1\n",
    "    print() # Move to the next line after each row    \n"
   ]
  },
  {
   "cell_type": "code",
   "execution_count": 43,
   "id": "185c7732-44a4-4c60-8ff0-11ddac401c5a",
   "metadata": {},
   "outputs": [
    {
     "name": "stdout",
     "output_type": "stream",
     "text": [
      "      1 \n",
      "    2 2 \n",
      "  3 3 3 \n",
      "4 4 4 4 \n"
     ]
    }
   ],
   "source": [
    "for i in range(1,5):\n",
    "    # Print leading spaces\n",
    "    for j in range(4-i):\n",
    "        print(' ',end=\" \")\n",
    "    # Print the numbers    \n",
    "    for j in range(i):\n",
    "        print(i,end=\" \")\n",
    "    print()  # Move to the next line after each row  "
   ]
  },
  {
   "cell_type": "code",
   "execution_count": 45,
   "id": "992ce72a-9f0e-478b-af1f-671ae15dd28e",
   "metadata": {},
   "outputs": [
    {
     "name": "stdout",
     "output_type": "stream",
     "text": [
      "4 4 4 4 \n",
      "3 3 3 \n",
      "2 2 \n",
      "1 \n"
     ]
    }
   ],
   "source": [
    "for i in range(4,0,-1):\n",
    "    for j in range(0,i):\n",
    "        print(i,end=\" \")\n",
    "    print()    "
   ]
  },
  {
   "cell_type": "code",
   "execution_count": 1,
   "id": "ae25b6fc-8f00-4299-8fd7-c38a407eb246",
   "metadata": {},
   "outputs": [
    {
     "name": "stdout",
     "output_type": "stream",
     "text": [
      "1 1 loop breaks\n",
      "\n",
      "2 2 loop breaks\n",
      "\n",
      "3 3 loop breaks\n",
      "\n",
      "4 4 loop breaks\n",
      "\n",
      "5 5 loop breaks\n",
      "\n"
     ]
    }
   ],
   "source": [
    "for i in range(1,6):\n",
    "    for j in range(1,4):\n",
    "        if(j==3):\n",
    "            print(\"loop breaks\")\n",
    "            break\n",
    "        print(i,end=\" \")\n",
    "    print()    "
   ]
  },
  {
   "cell_type": "code",
   "execution_count": 3,
   "id": "458ddf90-d2e5-4e7c-b582-7e71648030ba",
   "metadata": {},
   "outputs": [
    {
     "name": "stdout",
     "output_type": "stream",
     "text": [
      "1 1 1 \n",
      "2 2 2 \n",
      "loop breaks\n"
     ]
    }
   ],
   "source": [
    "for i in range(1,6):\n",
    "    if(i==3):\n",
    "        print(\"loop breaks\")\n",
    "        break\n",
    "    for j in range(1,4):\n",
    "        print(i,end=\" \")\n",
    "    print()    "
   ]
  },
  {
   "cell_type": "code",
   "execution_count": 9,
   "id": "acfae52f-62c0-47be-80ae-cbfa9a5a69f8",
   "metadata": {},
   "outputs": [
    {
     "name": "stdout",
     "output_type": "stream",
     "text": [
      "1 \n",
      "2 \n",
      "3 \n",
      "loop skips\n",
      "5 \n"
     ]
    }
   ],
   "source": [
    "for i  in range(1,6):\n",
    "    if(i==4):\n",
    "         print(\"loop skips\")\n",
    "         continue\n",
    "    print(i,end=\" \")\n",
    "    print()"
   ]
  },
  {
   "cell_type": "code",
   "execution_count": 1,
   "id": "2d1b25d7-f4fa-4d29-ab27-52d1c1909e9e",
   "metadata": {},
   "outputs": [
    {
     "name": "stdout",
     "output_type": "stream",
     "text": [
      "1 1 1 \n",
      "2 2 2 \n",
      "loop skips\n",
      "4 4 4 \n",
      "5 5 5 \n"
     ]
    }
   ],
   "source": [
    "for i in range(1,6):\n",
    "    if(i==3):\n",
    "        print(\"loop skips\")\n",
    "        continue\n",
    "    for j in range(1,4):\n",
    "        print(i,end=\" \")\n",
    "    print()"
   ]
  },
  {
   "cell_type": "code",
   "execution_count": 3,
   "id": "169368ff-73f6-40b2-b17b-561d3861fe44",
   "metadata": {},
   "outputs": [
    {
     "name": "stdout",
     "output_type": "stream",
     "text": [
      "1\n",
      "3\n",
      "5\n"
     ]
    }
   ],
   "source": [
    "for i in range(1,6):\n",
    "    if(i%2==0):\n",
    "        pass\n",
    "    else:\n",
    "        print(i)"
   ]
  },
  {
   "cell_type": "code",
   "execution_count": 5,
   "id": "923f5172-f323-4348-a991-a304ddd1233e",
   "metadata": {},
   "outputs": [
    {
     "name": "stdin",
     "output_type": "stream",
     "text": [
      "Enter a number: 3\n"
     ]
    },
    {
     "name": "stdout",
     "output_type": "stream",
     "text": [
      "factorial of 3 is 6\n"
     ]
    }
   ],
   "source": [
    "num=int(input('Enter a number:'))\n",
    "fact=1\n",
    "for i in range(1,num+1):\n",
    "    fact*=i\n",
    "print('factorial of',num,'is',fact)"
   ]
  },
  {
   "cell_type": "code",
   "execution_count": 17,
   "id": "ebcfa605-4b42-48bc-9371-5365738b2080",
   "metadata": {},
   "outputs": [
    {
     "name": "stdout",
     "output_type": "stream",
     "text": [
      "Number of Alphabets is 9\n",
      "Number of Digits is 7\n"
     ]
    }
   ],
   "source": [
    "string=\"Mahendran-6066681\"\n",
    "count1=0\n",
    "count2=0\n",
    "for i in string:\n",
    "    if (i.isalpha()):\n",
    "        count1+=1\n",
    "    elif(i.isdigit()):\n",
    "        count2+=1\n",
    "print(\"Number of Alphabets is\", count1)\n",
    "print(\"Number of Digits is\", count2)"
   ]
  },
  {
   "cell_type": "code",
   "execution_count": 1,
   "id": "909c9e34-e510-459e-99e3-cc0e628c4562",
   "metadata": {},
   "outputs": [
    {
     "name": "stdout",
     "output_type": "stream",
     "text": [
      "50 47 44 41 38 35 32 "
     ]
    }
   ],
   "source": [
    "for index in range(50,30,-3):\n",
    "    print(index,end=' ')"
   ]
  },
  {
   "cell_type": "code",
   "execution_count": 3,
   "id": "df3ad488-524a-4568-85d3-cdc896082e21",
   "metadata": {},
   "outputs": [
    {
     "name": "stdin",
     "output_type": "stream",
     "text": [
      "Enter first number: 3.03\n",
      "Enter second number: 7.85\n",
      "Enter third number: 2.87\n"
     ]
    },
    {
     "name": "stdout",
     "output_type": "stream",
     "text": [
      "The median is: 3.03\n"
     ]
    }
   ],
   "source": [
    "a=float(input(\"Enter first number:\"))\n",
    "b=float(input(\"Enter second number:\"))\n",
    "c=float(input(\"Enter third number:\"))\n",
    "if a>b:\n",
    "    if a<c:\n",
    "        median=a\n",
    "    elif b>c:\n",
    "        median=b\n",
    "    else:\n",
    "        median=c\n",
    "else:\n",
    "    if a>c:\n",
    "        median=a\n",
    "    elif b<c:\n",
    "        median=b\n",
    "    else:\n",
    "        median=c\n",
    "print(\"The median is:\",median)"
   ]
  },
  {
   "cell_type": "code",
   "execution_count": 5,
   "id": "9f088bc9-aace-41f4-815b-be667d221bca",
   "metadata": {},
   "outputs": [
    {
     "name": "stdout",
     "output_type": "stream",
     "text": [
      "1 3 5 7 9 11 13 15 17 19 21 23 25 \n"
     ]
    }
   ],
   "source": [
    "for i in range(1,26):\n",
    "    if i%2!=0:\n",
    "        print(i,end=\" \")\n",
    "print()        "
   ]
  },
  {
   "cell_type": "code",
   "execution_count": 7,
   "id": "1cfa6259-03a3-47c8-afaf-ca478bb1def3",
   "metadata": {},
   "outputs": [
    {
     "name": "stdin",
     "output_type": "stream",
     "text": [
      "Enter the number you want to generate a multiplication table for: 5\n"
     ]
    },
    {
     "name": "stdout",
     "output_type": "stream",
     "text": [
      "5  *  1  =  5\n",
      "5  *  2  =  10\n",
      "5  *  3  =  15\n",
      "5  *  4  =  20\n",
      "5  *  5  =  25\n",
      "5  *  6  =  30\n",
      "5  *  7  =  35\n",
      "5  *  8  =  40\n",
      "5  *  9  =  45\n",
      "5  *  10  =  50\n"
     ]
    }
   ],
   "source": [
    "num=int(input(\"Enter the number you want to generate a multiplication table for:\"))\n",
    "for i in range(1,11):\n",
    "    result = num * i\n",
    "    print(num,\" * \",i,\" = \",result)\n",
    "    "
   ]
  },
  {
   "cell_type": "code",
   "execution_count": 9,
   "id": "eeeee4b3-778e-4428-a76a-fa966169b2cd",
   "metadata": {},
   "outputs": [
    {
     "name": "stdin",
     "output_type": "stream",
     "text": [
      "Enter a palindrome: MOM\n"
     ]
    },
    {
     "name": "stdout",
     "output_type": "stream",
     "text": [
      "Reversed string: MOM\n",
      "Palindrome\n"
     ]
    }
   ],
   "source": [
    "pal=input(\"Enter a palindrome:\")\n",
    "revpal=\"\"\n",
    "for i in pal:\n",
    "    revpal=i+revpal\n",
    "print(\"Reversed string:\",revpal)\n",
    "if(pal==revpal):\n",
    "    print(\"Palindrome\")\n",
    "else:\n",
    "    print(\"Not a Palindrome\")"
   ]
  },
  {
   "cell_type": "code",
   "execution_count": 7,
   "id": "77f0b45c-0276-4312-9931-f15e45e91a48",
   "metadata": {},
   "outputs": [
    {
     "name": "stdout",
     "output_type": "stream",
     "text": [
      "Year 1 : 105000\n",
      "Year 2 : 110250\n",
      "Year 3 : 115762\n",
      "Year 4 : 121550\n",
      "Year 5 : 127628\n",
      "Year 6 : 134009\n",
      "Year 7 : 140710\n",
      "Year 8 : 147745\n",
      "Year 9 : 155132\n",
      "Year 10 : 162889\n"
     ]
    }
   ],
   "source": [
    "population=100000\n",
    "for i in range(1,11):\n",
    "    population=population + population * 0.05\n",
    "    print(\"Year\",i,\":\",int(population))"
   ]
  },
  {
   "cell_type": "code",
   "execution_count": null,
   "id": "b9d6418f-4b77-41c0-95d2-14864aa96a24",
   "metadata": {},
   "outputs": [],
   "source": []
  }
 ],
 "metadata": {
  "kernelspec": {
   "display_name": "Python 3 (ipykernel)",
   "language": "python",
   "name": "python3"
  },
  "language_info": {
   "codemirror_mode": {
    "name": "ipython",
    "version": 3
   },
   "file_extension": ".py",
   "mimetype": "text/x-python",
   "name": "python",
   "nbconvert_exporter": "python",
   "pygments_lexer": "ipython3",
   "version": "3.12.4"
  }
 },
 "nbformat": 4,
 "nbformat_minor": 5
}
